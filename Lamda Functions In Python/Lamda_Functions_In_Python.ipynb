{
 "cells": [
  {
   "cell_type": "code",
   "execution_count": 6,
   "metadata": {},
   "outputs": [
    {
     "data": {
      "text/plain": [
       "9"
      ]
     },
     "execution_count": 6,
     "metadata": {},
     "output_type": "execute_result"
    }
   ],
   "source": [
    "#lamda arguments:expression\n",
    "x = lambda a: a*a\n",
    "x(3)"
   ]
  },
  {
   "cell_type": "code",
   "execution_count": null,
   "metadata": {},
   "outputs": [],
   "source": [
    "#Without Lambda it took 4 Lines of code and with lambda expressions it took 2 lines of code\n",
    "def new(a):\n",
    "    return a*a\n",
    "\n",
    "new(3)"
   ]
  },
  {
   "cell_type": "markdown",
   "metadata": {},
   "source": [
    "# User-Defined Lambda Functions"
   ]
  },
  {
   "cell_type": "code",
   "execution_count": 9,
   "metadata": {},
   "outputs": [
    {
     "name": "stdout",
     "output_type": "stream",
     "text": [
      "12\n"
     ]
    }
   ],
   "source": [
    "def A(x):\n",
    "    return(lambda y:x+y)\n",
    "t = A(4)\n",
    "print(t(8))"
   ]
  },
  {
   "cell_type": "code",
   "execution_count": 10,
   "metadata": {},
   "outputs": [
    {
     "name": "stdout",
     "output_type": "stream",
     "text": [
      "12\n",
      "12\n"
     ]
    }
   ],
   "source": [
    "def A(x):\n",
    "    return(lambda y:x+y)\n",
    "t = A(4)\n",
    "print(t(8))\n",
    "u = A(7)\n",
    "print(u(5))"
   ]
  },
  {
   "cell_type": "markdown",
   "metadata": {},
   "source": [
    "## Lambda Within Filters"
   ]
  },
  {
   "cell_type": "code",
   "execution_count": 11,
   "metadata": {},
   "outputs": [
    {
     "name": "stdout",
     "output_type": "stream",
     "text": [
      "[6]\n"
     ]
    }
   ],
   "source": [
    "mylist = [1,2,3,4,5,6]\n",
    "newlist = list(filter(lambda a:(a/3 == 2), mylist)) #SYNTAX: filter(function, iterables)\n",
    "print(newlist)"
   ]
  }
 ],
 "metadata": {
  "interpreter": {
   "hash": "4791ef40c73cf2700d66403d24cc8070a6a36aa74fa6a3c8e3dfcc27849311f8"
  },
  "kernelspec": {
   "display_name": "Python 3.8.10 64-bit ('Pandas': conda)",
   "name": "python3"
  },
  "language_info": {
   "codemirror_mode": {
    "name": "ipython",
    "version": 3
   },
   "file_extension": ".py",
   "mimetype": "text/x-python",
   "name": "python",
   "nbconvert_exporter": "python",
   "pygments_lexer": "ipython3",
   "version": "3.8.10"
  },
  "orig_nbformat": 4
 },
 "nbformat": 4,
 "nbformat_minor": 2
}
