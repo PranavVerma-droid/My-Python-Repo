{
 "cells": [
  {
   "cell_type": "markdown",
   "metadata": {},
   "source": [
    "# Generators"
   ]
  },
  {
   "cell_type": "code",
   "execution_count": 4,
   "metadata": {},
   "outputs": [
    {
     "name": "stdout",
     "output_type": "stream",
     "text": [
      "<generator object new at 0x000001B93E931A50>\n"
     ]
    },
    {
     "data": {
      "text/plain": [
       "(1, 'Hi')"
      ]
     },
     "execution_count": 4,
     "metadata": {},
     "output_type": "execute_result"
    }
   ],
   "source": [
    "def new(dict):\n",
    "    for x, y in dict.items():\n",
    "        yield x, y\n",
    "a = {1:'Hi', 2:'Welcome'}\n",
    "b = new(a)\n",
    "print(b)\n",
    "next(b)"
   ]
  },
  {
   "cell_type": "code",
   "execution_count": 14,
   "metadata": {},
   "outputs": [
    {
     "data": {
      "text/plain": [
       "2"
      ]
     },
     "execution_count": 14,
     "metadata": {},
     "output_type": "execute_result"
    }
   ],
   "source": [
    "def myfunc(i):\n",
    "    while i <= 3:\n",
    "        yield i\n",
    "        i += 1\n",
    "j = myfunc(2)\n",
    "next(j)"
   ]
  },
  {
   "cell_type": "code",
   "execution_count": 16,
   "metadata": {},
   "outputs": [
    {
     "name": "stdout",
     "output_type": "stream",
     "text": [
      "3\n",
      "9\n"
     ]
    }
   ],
   "source": [
    "def ex():\n",
    "    n = 3\n",
    "    yield n\n",
    "    n = n * n\n",
    "    yield n\n",
    "v = ex()\n",
    "for x in v:\n",
    "    print(x)\n"
   ]
  },
  {
   "cell_type": "code",
   "execution_count": 17,
   "metadata": {},
   "outputs": [
    {
     "name": "stdout",
     "output_type": "stream",
     "text": [
      "List Comp:[2, 3, 4, 5, 6, 7]\n",
      "Generator Expression:<generator object <genexpr> at 0x000001B93F008270>\n"
     ]
    }
   ],
   "source": [
    "f = range(6)\n",
    "print('List Comp', end=':')\n",
    "q = [x + 2 for x in f]\n",
    "print(q)\n",
    "print('Generator Expression', end=':')\n",
    "r = (x + 2 for x in f)\n",
    "print(r)"
   ]
  }
 ],
 "metadata": {
  "interpreter": {
   "hash": "c81af17539a12d068bd5aa9f8d75656335c72993f04982d0b2c8a68fb6df7c2f"
  },
  "kernelspec": {
   "display_name": "Python 3.8.8 64-bit ('base': conda)",
   "name": "python3"
  },
  "language_info": {
   "codemirror_mode": {
    "name": "ipython",
    "version": 3
   },
   "file_extension": ".py",
   "mimetype": "text/x-python",
   "name": "python",
   "nbconvert_exporter": "python",
   "pygments_lexer": "ipython3",
   "version": "3.8.8"
  },
  "orig_nbformat": 4
 },
 "nbformat": 4,
 "nbformat_minor": 2
}
